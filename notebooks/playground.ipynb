{
 "cells": [
  {
   "cell_type": "code",
   "execution_count": 164,
   "metadata": {},
   "outputs": [],
   "source": [
    "import numpy as np\n",
    "import pandas as pd\n",
    "from numba import njit\n",
    "from scipy.stats import norm, halfnorm\n",
    "import seaborn as sns\n",
    "import matplotlib.pyplot as plt\n",
    "from tqdm import tqdm\n",
    "\n",
    "# Get rid of annoying tf warning\n",
    "import os\n",
    "os.environ['TF_CPP_MIN_LOG_LEVEL'] = '3'\n",
    "\n",
    "import bayesflow as beef\n",
    "import tensorflow as tf\n",
    "from tensorflow.keras.layers import LSTM, Bidirectional\n",
    "from tensorflow.keras.models import Sequential\n",
    "from keras.utils import to_categorical\n",
    "\n",
    "import sys\n",
    "sys.path.append(\"../src/\")\n",
    "from priors import sample_eta, sample_random_walk\n",
    "from likelihood import sample_softmax_rl\n",
    "from context import generate_context\n",
    "from configurator import configure_input\n",
    "from helpers import softmax"
   ]
  },
  {
   "cell_type": "code",
   "execution_count": null,
   "metadata": {},
   "outputs": [],
   "source": [
    "# Suppress scientific notation for floats\n",
    "np.set_printoptions(suppress=True)\n",
    "# Configure rng\n",
    "RNG = np.random.default_rng()"
   ]
  },
  {
   "cell_type": "code",
   "execution_count": null,
   "metadata": {},
   "outputs": [],
   "source": [
    "physical_devices = tf.config.list_physical_devices('GPU')\n",
    "tf.config.experimental.set_memory_growth(physical_devices[0], enable=True)\n",
    "print(tf.config.list_physical_devices('GPU'))"
   ]
  },
  {
   "cell_type": "code",
   "execution_count": null,
   "metadata": {},
   "outputs": [],
   "source": [
    "TRAIN_NETWORK = False"
   ]
  },
  {
   "cell_type": "code",
   "execution_count": null,
   "metadata": {},
   "outputs": [],
   "source": [
    "LOCAL_PARAM_LABELS = (\"Learning rate\", \"Sensitivity\")\n",
    "LOCAL_PARAM_NAMES = (r\"$\\alpha$\", r\"$\\tau$\")\n",
    "GLOBAL_PARAM_LABELS = (\"Standard deviation\", \"Standard deviation\")\n",
    "GLOBAL_PARAM_NAMES = (r\"$\\sigma_{\\alpha}$\", r\"$\\sigma_{\\tau}$\")\n",
    "\n",
    "FONT_SIZE_1 = 16\n",
    "FONT_SIZE_2 = 14\n",
    "FONT_SIZE_3 = 12\n",
    "\n",
    "GLOBAL_PRIOR_MEAN = halfnorm(0, [0.05, 3]).mean().round(decimals=2)\n",
    "GLOBAL_PRIOR_STD = halfnorm(0, [0.05, 3]).std().round(decimals=2)\n",
    "LOCAL_PRIOR_MEAN = np.array([0.6, 20])\n",
    "LOCAL_PRIOR_STD = np.array([0.3, 20])\n",
    "\n",
    "import matplotlib\n",
    "matplotlib.rcParams['font.serif'] = \"Palatino\"\n",
    "matplotlib.rcParams['font.family'] = \"serif\""
   ]
  },
  {
   "cell_type": "markdown",
   "metadata": {},
   "source": [
    "## Read Empiric Data"
   ]
  },
  {
   "cell_type": "code",
   "execution_count": null,
   "metadata": {},
   "outputs": [],
   "source": [
    "emp_data = pd.read_csv(\"../data/data_fontanesi_prep.csv\")\n",
    "emp_data.f_cor = emp_data.f_cor / 60\n",
    "emp_data.f_inc = emp_data.f_inc / 60"
   ]
  },
  {
   "cell_type": "markdown",
   "metadata": {},
   "source": [
    "## Exemplar Trajectory"
   ]
  },
  {
   "cell_type": "code",
   "execution_count": null,
   "metadata": {},
   "outputs": [],
   "source": [
    "eta = sample_eta()\n",
    "theta = sample_random_walk(eta)\n",
    "time = np.arange(theta.shape[0])\n",
    "fig, axarr = plt.subplots(1, 2, figsize=(10, 3))\n",
    "for i, ax in enumerate(axarr.flat):\n",
    "    ax.grid(alpha=0.5)\n",
    "    ax.plot(\n",
    "        time,\n",
    "        theta[:, i],\n",
    "        color='maroon'\n",
    "    )\n",
    "    ax.set_title(f'{LOCAL_PARAM_LABELS[i]} ({LOCAL_PARAM_NAMES[i]})', fontsize=FONT_SIZE_1)\n",
    "    ax.tick_params(axis='both', which='major', labelsize=FONT_SIZE_3)\n",
    "    if i == 0 or i == 4:\n",
    "        ax.set_ylabel(\"Parameter value\", fontsize=FONT_SIZE_2)\n",
    "    ax.set_xlabel(\"Time step\", fontsize=FONT_SIZE_2)\n",
    "\n",
    "sns.despine()\n",
    "fig.tight_layout()"
   ]
  },
  {
   "cell_type": "markdown",
   "metadata": {},
   "source": [
    "## Generative Model"
   ]
  },
  {
   "cell_type": "markdown",
   "metadata": {},
   "source": [
    "### Prior"
   ]
  },
  {
   "cell_type": "code",
   "execution_count": null,
   "metadata": {},
   "outputs": [],
   "source": [
    "prior = beef.simulation.TwoLevelPrior(\n",
    "    hyper_prior_fun=sample_eta,\n",
    "    local_prior_fun=sample_random_walk,\n",
    ")"
   ]
  },
  {
   "cell_type": "markdown",
   "metadata": {},
   "source": [
    "### Context"
   ]
  },
  {
   "cell_type": "code",
   "execution_count": null,
   "metadata": {},
   "outputs": [],
   "source": [
    "context = beef.simulation.ContextGenerator(\n",
    "    batchable_context_fun=generate_context,\n",
    ")"
   ]
  },
  {
   "cell_type": "markdown",
   "metadata": {},
   "source": [
    "### Likelihood"
   ]
  },
  {
   "cell_type": "code",
   "execution_count": null,
   "metadata": {},
   "outputs": [],
   "source": [
    "likelihood = beef.simulation.Simulator(\n",
    "    simulator_fun=sample_softmax_rl,\n",
    "    context_generator=context,\n",
    ")"
   ]
  },
  {
   "cell_type": "markdown",
   "metadata": {},
   "source": [
    "### Simulator"
   ]
  },
  {
   "cell_type": "code",
   "execution_count": null,
   "metadata": {},
   "outputs": [],
   "source": [
    "model = beef.simulation.TwoLevelGenerativeModel(\n",
    "    prior=prior,\n",
    "    simulator=likelihood,\n",
    "    name=\"non-stationary_softmax_rl\",\n",
    ")"
   ]
  },
  {
   "cell_type": "markdown",
   "metadata": {},
   "source": [
    "## Neural Approximator"
   ]
  },
  {
   "cell_type": "code",
   "execution_count": null,
   "metadata": {},
   "outputs": [],
   "source": [
    "approximator_settings = {\n",
    "    \"lstm1_hidden_units\": 512,\n",
    "    \"lstm2_hidden_units\": 256,\n",
    "    \"lstm3_hidden_units\": 128,\n",
    "    \"trainer\": {\n",
    "        \"max_to_keep\": 1,\n",
    "        \"default_lr\": 5e-4,\n",
    "        \"memory\": False,\n",
    "    },\n",
    "    \"local_amortizer_settings\": {\n",
    "        \"num_coupling_layers\": 8,\n",
    "        \"coupling_design\": 'interleaved'\n",
    "    },\n",
    "    \"global_amortizer_settings\": {\n",
    "        \"num_coupling_layers\": 6,\n",
    "        \"coupling_design\": 'interleaved'\n",
    "    },\n",
    "}"
   ]
  },
  {
   "cell_type": "code",
   "execution_count": null,
   "metadata": {},
   "outputs": [],
   "source": [
    "summary_network = beef.networks.HierarchicalNetwork(\n",
    "    [\n",
    "        Sequential(\n",
    "            [\n",
    "                Bidirectional(LSTM(approximator_settings[\"lstm1_hidden_units\"], return_sequences=True)),\n",
    "                Bidirectional(LSTM(approximator_settings[\"lstm2_hidden_units\"], return_sequences=True)),\n",
    "            ]\n",
    "        ),\n",
    "        Sequential(\n",
    "            [\n",
    "                Bidirectional(LSTM(approximator_settings[\"lstm3_hidden_units\"]))\n",
    "            ]\n",
    "        )\n",
    "    ]\n",
    ")"
   ]
  },
  {
   "cell_type": "code",
   "execution_count": null,
   "metadata": {},
   "outputs": [],
   "source": [
    "local_network = beef.amortizers.AmortizedPosterior(\n",
    "    beef.networks.InvertibleNetwork(\n",
    "        num_params=2,\n",
    "        **approximator_settings.get(\"local_amortizer_settings\")\n",
    "    )\n",
    ")\n",
    "global_network = beef.amortizers.AmortizedPosterior(\n",
    "    beef.networks.InvertibleNetwork(\n",
    "        num_params=2,\n",
    "        **approximator_settings.get(\"global_amortizer_settings\")\n",
    "    )\n",
    ")"
   ]
  },
  {
   "cell_type": "code",
   "execution_count": null,
   "metadata": {},
   "outputs": [],
   "source": [
    "amortizer = beef.amortizers.TwoLevelAmortizedPosterior(\n",
    "    local_amortizer=local_network,\n",
    "    global_amortizer=global_network,\n",
    "    summary_net=summary_network\n",
    ")\n",
    "trainer = beef.trainers.Trainer(\n",
    "    amortizer=amortizer,\n",
    "    generative_model=model,\n",
    "    configurator=configure_input,\n",
    "    **approximator_settings.get(\"trainer\"),\n",
    "    checkpoint_path=\"../checkpoints/ns__rl_jumps\"\n",
    ")"
   ]
  },
  {
   "cell_type": "markdown",
   "metadata": {},
   "source": [
    "## Training"
   ]
  },
  {
   "cell_type": "code",
   "execution_count": null,
   "metadata": {
    "scrolled": false
   },
   "outputs": [],
   "source": [
    "if TRAIN_NETWORK:\n",
    "    history = trainer.train_online(\n",
    "        epochs=200,\n",
    "        iterations_per_epoch=1000,\n",
    "        batch_size=32\n",
    "    )\n",
    "    loss_plot = beef.diagnostics.plot_losses(trainer.loss_history.get_plottable())\n",
    "else:\n",
    "    loss_plot = beef.diagnostics.plot_losses(trainer.loss_history.get_plottable())"
   ]
  },
  {
   "cell_type": "markdown",
   "metadata": {},
   "source": [
    "## Validation"
   ]
  },
  {
   "cell_type": "code",
   "execution_count": null,
   "metadata": {},
   "outputs": [],
   "source": [
    "val_data = model(1)\n",
    "theta_true = val_data['local_prior_draws'][0]\n",
    "eta_true = val_data['hyper_prior_draws'][0]"
   ]
  },
  {
   "cell_type": "code",
   "execution_count": null,
   "metadata": {},
   "outputs": [],
   "source": [
    "val_data_config = configure_input(val_data)"
   ]
  },
  {
   "cell_type": "code",
   "execution_count": null,
   "metadata": {},
   "outputs": [],
   "source": [
    "val_data_config.keys()"
   ]
  },
  {
   "cell_type": "code",
   "execution_count": null,
   "metadata": {},
   "outputs": [],
   "source": [
    "post_sample = amortizer.sample(val_data_config, n_samples=1000)"
   ]
  },
  {
   "cell_type": "markdown",
   "metadata": {},
   "source": [
    "### Local Parameters"
   ]
  },
  {
   "cell_type": "code",
   "execution_count": null,
   "metadata": {},
   "outputs": [],
   "source": [
    "theta_post = post_sample['local_samples'] * LOCAL_PRIOR_STD + LOCAL_PRIOR_MEAN\n",
    "theta_post_mean = theta_post.mean(axis=1)\n",
    "theta_post_std = theta_post.std(axis=1)"
   ]
  },
  {
   "cell_type": "code",
   "execution_count": null,
   "metadata": {},
   "outputs": [],
   "source": [
    "time = np.arange(theta_post_mean.shape[0])\n",
    "fig, axarr = plt.subplots(1, 2, figsize=(10, 3))\n",
    "for i, ax in enumerate(axarr.flat):\n",
    "    ax.grid(alpha=0.5)\n",
    "    ax.plot(\n",
    "        time,\n",
    "        theta_post_mean[:, i],\n",
    "        color='maroon', label=\"Posterior\"\n",
    "    )\n",
    "    ax.plot(\n",
    "        time,\n",
    "        theta_true[:, i],\n",
    "        color='black', label=\"True parameter\"\n",
    "    )\n",
    "    ax.fill_between(\n",
    "        time,\n",
    "        theta_post_mean[:, i] - theta_post_std[:, i],\n",
    "        theta_post_mean[:, i] + theta_post_std[:, i],\n",
    "        color='maroon', alpha=0.5, linewidth=0.0\n",
    "    )\n",
    "    ax.set_title(f'{LOCAL_PARAM_LABELS[i]} ({LOCAL_PARAM_NAMES[i]})', fontsize=FONT_SIZE_1)\n",
    "    ax.tick_params(axis='both', which='major', labelsize=FONT_SIZE_3)\n",
    "    if i == 0:\n",
    "        ax.set_ylabel(\"Parameter value\", fontsize=FONT_SIZE_2)\n",
    "        fig.subplots_adjust(hspace=0.5)\n",
    "        fig.legend(fontsize=FONT_SIZE_2, bbox_to_anchor=(0.5, -0.05), loc=\"center\", ncol=2)\n",
    "    ax.set_xlabel(\"Time step\", fontsize=FONT_SIZE_2)\n",
    "\n",
    "sns.despine()\n",
    "fig.tight_layout()\n",
    "# fig.savefig(\"../plots/recovered_theta.pdf\", dpi=300, bbox_inches=\"tight\")"
   ]
  },
  {
   "cell_type": "markdown",
   "metadata": {},
   "source": [
    "### Global Parameters"
   ]
  },
  {
   "cell_type": "code",
   "execution_count": null,
   "metadata": {},
   "outputs": [],
   "source": [
    "eta_post = post_sample['global_samples'] * GLOBAL_PRIOR_STD + GLOBAL_PRIOR_MEAN "
   ]
  },
  {
   "cell_type": "code",
   "execution_count": null,
   "metadata": {},
   "outputs": [],
   "source": [
    "prior_samples = prior(1000)"
   ]
  },
  {
   "cell_type": "code",
   "execution_count": null,
   "metadata": {},
   "outputs": [],
   "source": [
    "prior_eta = prior_samples['hyper_parameters']"
   ]
  },
  {
   "cell_type": "code",
   "execution_count": null,
   "metadata": {},
   "outputs": [],
   "source": [
    "fig, axarr = plt.subplots(1, 2, figsize=(10, 3))\n",
    "for i, ax in enumerate(axarr.flat):\n",
    "    ax.grid(alpha=0.5)\n",
    "    ax.axvline(\n",
    "        eta_true[i],\n",
    "        color='black',\n",
    "        lw=3,\n",
    "        label=\"True parameter\"\n",
    "    )\n",
    "    sns.histplot(\n",
    "        eta_post[:, i],\n",
    "        color='maroon',\n",
    "        ax=ax,\n",
    "        alpha=0.5,\n",
    "        linewidth=0,\n",
    "        label=\"Posterior\"\n",
    "    )\n",
    "\n",
    "    sns.histplot(\n",
    "        prior_eta[:, i],\n",
    "        ax=ax,\n",
    "        alpha=0.25,\n",
    "        linewidth=0,\n",
    "        label=\"Prior\"\n",
    "    )\n",
    "\n",
    "    ax.tick_params(axis='both', which='major', labelsize=FONT_SIZE_3)\n",
    "    ax.set_ylabel(\"\", fontsize=FONT_SIZE_2)\n",
    "    if i == 0:\n",
    "        ax.set_ylabel(\"Count\", fontsize=FONT_SIZE_2)\n",
    "        fig.subplots_adjust(hspace=0.5)\n",
    "        fig.legend(fontsize=FONT_SIZE_2, bbox_to_anchor=(0.5, -0.05), loc=\"center\", ncol=3)\n",
    "    ax.set_xlabel(f'{GLOBAL_PARAM_LABELS[i]} ({GLOBAL_PARAM_NAMES[i]})', fontsize=FONT_SIZE_2)\n",
    "\n",
    "sns.despine()\n",
    "fig.tight_layout()\n",
    "# fig.savefig(\"../plots/recovered_eta.pdf\", dpi=300, bbox_inches=\"tight\")"
   ]
  },
  {
   "cell_type": "markdown",
   "metadata": {},
   "source": [
    "## Fit to Empirical Data"
   ]
  },
  {
   "cell_type": "code",
   "execution_count": 166,
   "metadata": {},
   "outputs": [],
   "source": [
    "N_SAMPLES = 2000\n",
    "# SUBJECTS = emp_data.id.unique()\n",
    "RELEVANT_SUB = np.array([1, 3, 5, 6, 7, 8, 16, 20, 22, 23, 24, 26, 27])\n",
    "theta_post = np.zeros((len(RELEVANT_SUB), 240, N_SAMPLES, 2))"
   ]
  },
  {
   "cell_type": "code",
   "execution_count": 167,
   "metadata": {},
   "outputs": [
    {
     "name": "stderr",
     "output_type": "stream",
     "text": [
      "100%|██████████| 13/13 [02:15<00:00, 10.45s/it]\n"
     ]
    }
   ],
   "source": [
    "for i, sub in enumerate(tqdm(RELEVANT_SUB)):\n",
    "    person_data = emp_data.loc[emp_data.id == sub][['resp', 'f_cor', 'f_inc', 'cor_option', 'inc_option']].to_numpy()\n",
    "    resp = person_data[:, 0, None]\n",
    "    feedback = person_data[:, 1:3]\n",
    "    cor_option = person_data[:, 3, None]\n",
    "    inc_option = person_data[:, 4, None]\n",
    "    data = np.c_[\n",
    "        resp, feedback, to_categorical(cor_option), to_categorical(inc_option)\n",
    "    ]\n",
    "    post_sample = amortizer.sample({'summary_conditions': data[None, :, :]}, n_samples=N_SAMPLES)\n",
    "    theta_post[i] = post_sample['local_samples'] * LOCAL_PRIOR_STD + LOCAL_PRIOR_MEAN"
   ]
  },
  {
   "cell_type": "code",
   "execution_count": 169,
   "metadata": {},
   "outputs": [],
   "source": [
    "# theta_post_mean = theta_post.mean(axis=1)\n",
    "# theta_post_std = theta_post.std(axis=1)\n",
    "post_means = np.mean(theta_post, axis=2)\n",
    "post_std = np.std(theta_post, axis=2)\n",
    "post_means_mean = np.mean(post_means, axis=0)\n",
    "post_means_std = np.std(post_means, axis=0)"
   ]
  },
  {
   "cell_type": "code",
   "execution_count": 186,
   "metadata": {},
   "outputs": [
    {
     "data": {
      "image/png": "[encoded data removed]",
      "text/plain": [
       "<Figure size 1000x300 with 2 Axes>"
      ]
     },
     "metadata": {},
     "output_type": "display_data"
    }
   ],
   "source": [
    "time = np.arange(post_means_mean.shape[0])\n",
    "fig, axarr = plt.subplots(1, 2, figsize=(10, 3))\n",
    "for i, ax in enumerate(axarr.flat):\n",
    "    ax.grid(alpha=0.5)\n",
    "    ax.plot(\n",
    "        time,\n",
    "        post_means_mean[:, i],\n",
    "        color='maroon', label=\"Posterior\"\n",
    "    )\n",
    "    ax.fill_between( \n",
    "        time,\n",
    "        post_means_mean[:, i] - post_means_std[:, i],\n",
    "        post_means_mean[:, i] + post_means_std[:, i],\n",
    "        color='maroon', alpha=0.5, linewidth=0.0\n",
    "    )\n",
    "    ax.set_title(f'{LOCAL_PARAM_LABELS[i]} ({LOCAL_PARAM_NAMES[i]})', fontsize=FONT_SIZE_1)\n",
    "    ax.tick_params(axis='both', which='major', labelsize=FONT_SIZE_3)\n",
    "    xticks = np.arange(0, 240+1, 40)\n",
    "    xticks[0] = 1\n",
    "    ax.set_xticks(xticks)\n",
    "    if i == 0:\n",
    "        ax.set_yticks(np.arange(0, 0.7, 0.2))\n",
    "        ax.set_ylabel(\"Parameter value\", fontsize=FONT_SIZE_2)\n",
    "        # fig.subplots_adjust(hspace=0.5)\n",
    "        # fig.legend(fontsize=FONT_SIZE_2, bbox_to_anchor=(0.5, -0.05), loc=\"center\", ncol=2)\n",
    "    if i == 1:\n",
    "        ax.set_yticks(np.arange(0, 51, 15))\n",
    "    ax.set_xlabel(\"Trial\", fontsize=FONT_SIZE_2)\n",
    "\n",
    "sns.despine()\n",
    "fig.tight_layout()"
   ]
  },
  {
   "cell_type": "code",
   "execution_count": null,
   "metadata": {},
   "outputs": [],
   "source": []
  }
 ],
 "metadata": {
  "kernelspec": {
   "display_name": "Python 3 (ipykernel)",
   "language": "python",
   "name": "python3"
  },
  "language_info": {
   "codemirror_mode": {
    "name": "ipython",
    "version": 3
   },
   "file_extension": ".py",
   "mimetype": "text/x-python",
   "name": "python",
   "nbconvert_exporter": "python",
   "pygments_lexer": "ipython3",
   "version": "3.11.7"
  }
 },
 "nbformat": 4,
 "nbformat_minor": 2
}
