{
 "cells": [
  {
   "cell_type": "code",
   "execution_count": 4,
   "metadata": {},
   "outputs": [],
   "source": [
    "import numpy as np\n",
    "import pandas as pd\n",
    "from numba import njit\n",
    "from scipy.stats import norm, halfnorm, uniform\n",
    "import seaborn as sns\n",
    "import matplotlib.pyplot as plt\n",
    "from tqdm import tqdm\n",
    "from numba import njit\n",
    "\n",
    "# Get rid of annoying tf warning\n",
    "import os\n",
    "os.environ['TF_CPP_MIN_LOG_LEVEL'] = '3'\n",
    "\n",
    "import bayesflow as beef\n",
    "import tensorflow as tf\n",
    "from tensorflow.keras.layers import LSTM, Bidirectional\n",
    "from tensorflow.keras.models import Sequential\n",
    "from keras.utils import to_categorical\n",
    "from sklearn.metrics import r2_score\n",
    "\n",
    "import sys\n",
    "# sys.path.append(\"../src/\")\n",
    "# from priors import sample_mrw_eta, sample_mixture_random_walk\n",
    "# from likelihood import sample_softmax_rl\n",
    "# from context import generate_context\n",
    "# from configurator import configure_input\n",
    "# from helpers import softmax"
   ]
  },
  {
   "cell_type": "code",
   "execution_count": 5,
   "metadata": {},
   "outputs": [],
   "source": [
    "# Suppress scientific notation for floats\n",
    "np.set_printoptions(suppress=True)\n",
    "# Configure rng\n",
    "RNG = np.random.default_rng()"
   ]
  },
  {
   "cell_type": "code",
   "execution_count": 6,
   "metadata": {},
   "outputs": [],
   "source": [
    "# physical_devices = tf.config.list_physical_devices('GPU')\n",
    "# tf.config.experimental.set_memory_growth(physical_devices[0], enable=True)\n",
    "# print(tf.config.list_physical_devices('GPU'))"
   ]
  },
  {
   "cell_type": "code",
   "execution_count": 7,
   "metadata": {},
   "outputs": [],
   "source": [
    "@njit\n",
    "def softmax(x, tau):\n",
    "    \"\"\"\n",
    "    Apply the softmax function to an array of values with a temperature parameter.\n",
    "\n",
    "    Parameters\n",
    "    ----------\n",
    "    x : np.ndarray\n",
    "        A 1D numpy array containing the input values over which the softmax function is to be applied.\n",
    "    tau : float\n",
    "        The temperature parameter controlling the sharpness of the softmax output.\n",
    "        Must be a positive value.\n",
    "\n",
    "    Returns\n",
    "    -------\n",
    "    np.ndarray\n",
    "        A 1D numpy array of the same shape as `x`, where each value has been transformed by the softmax function,\n",
    "        representing a probability distribution.\n",
    "\n",
    "    Note\n",
    "    ----\n",
    "    This function is optimized with Numba's @njit decorator for faster execution.\n",
    "    \"\"\"\n",
    "    e_x = np.exp(x * tau)\n",
    "    out = e_x / e_x.sum()\n",
    "    return out\n",
    "\n",
    "@njit\n",
    "def select_action(x, p):\n",
    "    \"\"\"\n",
    "    Selects a random action based on a given probability distribution.\n",
    "\n",
    "    Parameters\n",
    "    ----------\n",
    "    x : np.ndarray\n",
    "        A 1D numpy array of actions or values to select from.\n",
    "    p : np.ndarray\n",
    "        A 1D numpy array of probabilities associated with each action in `x`. The sum of all probabilities should\n",
    "        be 1.\n",
    "\n",
    "    Returns\n",
    "    -------\n",
    "    Any\n",
    "        A randomly selected action from `x`, chosen according to the probabilities specified in `p`.\n",
    "\n",
    "    Note\n",
    "    ----\n",
    "    This function is optimized with Numba's @njit decorator for faster execution.\n",
    "    \"\"\"\n",
    "    return x[np.searchsorted(np.cumsum(p), np.random.random(), side=\"right\")]"
   ]
  },
  {
   "cell_type": "markdown",
   "metadata": {},
   "source": [
    "## Prior"
   ]
  },
  {
   "cell_type": "code",
   "execution_count": null,
   "metadata": {},
   "outputs": [],
   "source": [
    "# def sample_theta_0():\n",
    "#     alpha = RNG.uniform(low=0, high=1)\n",
    "#     tau = RNG.normal(loc=1, scale=30)\n",
    "#     tau = np.log(1 + np.exp(tau))\n",
    "#     return np.array([alpha, tau])"
   ]
  },
  {
   "cell_type": "markdown",
   "metadata": {},
   "source": [
    "## Likelihood"
   ]
  },
  {
   "cell_type": "markdown",
   "metadata": {},
   "source": [
    "$\\alpha \\rightarrow$ Learning rate [0, 1]\n",
    "\n",
    "$\\tau \\rightarrow$ Inverse temperature [0, ]\n",
    "\n",
    "$\\phi \\rightarrow$ Memory decay [0, 1]\n",
    "\n",
    "$w \\rightarrow$ Memory contribution = $p*min(1, \\frac{C}{n_S})$\n",
    "\n",
    "$p \\rightarrow$ Initial memory weighting \n",
    "\n",
    "$C \\rightarrow$ Memory capacity\n",
    "\n",
    "$n_S \\rightarrow$ Set size in current block\n",
    "\n",
    "$\\gamma \\rightarrow$ Perseveration"
   ]
  },
  {
   "cell_type": "markdown",
   "metadata": {},
   "source": [
    "#### Context\n",
    "\n",
    "Column 1: Stimulus [0, 5]\n",
    "\n",
    "Column 2: Correct response [0, 2]\n",
    "\n",
    "Column 3: Block id\n",
    "\n",
    "Columns 4: Set size"
   ]
  },
  {
   "cell_type": "code",
   "execution_count": 53,
   "metadata": {},
   "outputs": [],
   "source": [
    "stim = np.repeat(np.arange(5), 15)[:, None]\n",
    "correct = np.random.randint(0, 3, 5)\n",
    "correct = np.repeat(correct, 15)[:, None]\n",
    "block_id = np.repeat(0, 75)[:, None]\n",
    "set_size = np.repeat(5, 75)[:, None]\n",
    "context = np.c_[stim, correct, block_id, set_size]\n",
    "idx = np.random.choice(np.arange(75), 75, replace=False)\n",
    "context = context[idx]"
   ]
  },
  {
   "cell_type": "code",
   "execution_count": 54,
   "metadata": {},
   "outputs": [],
   "source": [
    "theta = np.array([0.1, 50, 0.9, 0.5, 1, 0.5])"
   ]
  },
  {
   "cell_type": "code",
   "execution_count": 77,
   "metadata": {},
   "outputs": [],
   "source": [
    "def sample_rlwm(theta, context):\n",
    "    alpha, tau, phi, p, c, y = theta\n",
    "    num_steps = context.shape[0]\n",
    "    sim_data = np.zeros((num_steps, 2))\n",
    "    current_block = -1\n",
    "    for t in range(num_steps):\n",
    "        # reset subjective values\n",
    "        if context[t, 2] != current_block:\n",
    "            current_block = context[t, 2]\n",
    "            set_size = int(context[t, 3])\n",
    "            q_values = np.full((set_size, 3), 1/3)\n",
    "            w_values = np.full((set_size, 3), 1/3)\n",
    "            w = p * np.minimum(1, c/set_size)\n",
    "        \n",
    "        current_stim = int(context[t, 0])\n",
    "\n",
    "        # choice selection\n",
    "        pi_rl = softmax(q_values[current_stim], tau)\n",
    "        pi_wm = softmax(w_values[current_stim], tau)\n",
    "        pi = w*pi_wm + (1 - w)*pi_rl\n",
    "        sim_data[t, 0] = select_action(np.arange(3), pi)\n",
    "        current_resp = int(sim_data[t, 0])\n",
    "\n",
    "        # feedback\n",
    "        if sim_data[t, 0] == context[t, 1]:\n",
    "            sim_data[t, 1] = 1\n",
    "        else:\n",
    "            sim_data[t, 1] = 0\n",
    "\n",
    "        # update values\n",
    "        pe = sim_data[t, 1] - q_values[current_stim, current_resp]\n",
    "        if pe < 0:\n",
    "            q_values[current_stim, current_resp] += (y*alpha) * pe\n",
    "            w_values[current_stim, current_resp] = y*sim_data[t, 1]\n",
    "        else:\n",
    "            q_values[current_stim, current_resp] += alpha * pe\n",
    "            w_values[current_stim, current_resp] = sim_data[t, 1]\n",
    "\n",
    "        # memory decay\n",
    "        w_values += phi * (1/3 - w_values)\n",
    "\n",
    "    return sim_data"
   ]
  },
  {
   "cell_type": "code",
   "execution_count": 78,
   "metadata": {},
   "outputs": [],
   "source": [
    "x = sample_rlwm(theta, context)"
   ]
  }
 ],
 "metadata": {
  "kernelspec": {
   "display_name": "beef",
   "language": "python",
   "name": "python3"
  },
  "language_info": {
   "codemirror_mode": {
    "name": "ipython",
    "version": 3
   },
   "file_extension": ".py",
   "mimetype": "text/x-python",
   "name": "python",
   "nbconvert_exporter": "python",
   "pygments_lexer": "ipython3",
   "version": "3.11.7"
  }
 },
 "nbformat": 4,
 "nbformat_minor": 2
}
